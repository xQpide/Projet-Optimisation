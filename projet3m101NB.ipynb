{
 "cells": [
  {
   "cell_type": "markdown",
   "metadata": {},
   "source": [
    "## Optimisation du profil d'une route"
   ]
  },
  {
   "cell_type": "code",
   "execution_count": null,
   "metadata": {
    "collapsed": true
   },
   "outputs": [],
   "source": [
    "from projet import *"
   ]
  },
  {
   "cell_type": "markdown",
   "metadata": {},
   "source": [
    "On commence par lire le profil du terrain que l'on stock dans deux listes : pt_mes (des points mesurés) et alt (des altitudes respectifs)."
   ]
  },
  {
   "cell_type": "code",
   "execution_count": null,
   "metadata": {},
   "outputs": [],
   "source": [
    "pt_mes, alt = lire_profil('profil.txt')\n",
    "print(\"Une partie du terrain :\\n\", \"Points mesurés :\", pt_mes[:10], \"\\n Altitude :\", alt[:10])"
   ]
  },
  {
   "cell_type": "markdown",
   "metadata": {},
   "source": [
    "Quelques paramètres supplémentaires sont fixés :"
   ]
  },
  {
   "cell_type": "code",
   "execution_count": null,
   "metadata": {
    "collapsed": true
   },
   "outputs": [],
   "source": [
    "L = pt_mes[-1] #longueur du terrain\n",
    "n = len(pt_mes) #nombre de points mesurés\n",
    "h = L/(n-1) #pas\n",
    "penteMax = 0.1 #pente maximale de la route fixée à 10% "
   ]
  },
  {
   "cell_type": "markdown",
   "metadata": {},
   "source": [
    "On peut aussi calculer la pente locale maximale du terrain :"
   ]
  },
  {
   "cell_type": "code",
   "execution_count": null,
   "metadata": {},
   "outputs": [],
   "source": [
    "penteLoc = pente_max(pt_mes, alt)\n",
    "print (\"Pente locale maximale trouvée : \", penteLoc)"
   ]
  },
  {
   "cell_type": "markdown",
   "metadata": {},
   "source": [
    "### Cas linéaire"
   ]
  },
  {
   "cell_type": "markdown",
   "metadata": {},
   "source": [
    "Ce probleme d'optimisation s'écrit sous la forme : <br>\n",
    "$min \\quad f^t \\times v$ <br>\n",
    "$s.c \\quad C \\times v - d \\leq 0$\n",
    "\n",
    "On calcule alors les vecteurs f et d et la matrice C :"
   ]
  },
  {
   "cell_type": "code",
   "execution_count": null,
   "metadata": {
    "collapsed": true
   },
   "outputs": [],
   "source": [
    "f, C, d = def_matrice(pt_mes, alt, h, penteMax) #matrices"
   ]
  },
  {
   "cell_type": "markdown",
   "metadata": {},
   "source": [
    "On choisit de résoudre ce problème en utilisant la fonction linprog de la bibliothèque scipy..."
   ]
  },
  {
   "cell_type": "code",
   "execution_count": null,
   "metadata": {
    "collapsed": true
   },
   "outputs": [],
   "source": [
    "bnds = [(None, None)] * n + [(0, None)] * n #bornes\n",
    "res = linprog(f, C, d, bounds=bnds, options={'disp': False, 'bland': False, 'tol': 1e-9, 'maxiter': 1000})\n",
    "profil_linprog = res['x'][:n] #profil retournee par scipy.linprog"
   ]
  },
  {
   "cell_type": "markdown",
   "metadata": {},
   "source": [
    "... ainsi qu'un programme maison du simplexe (environ 1000 itérations) <br>\n",
    "Le programme affiche également l'évolution de la fonction objective au cours des itérations."
   ]
  },
  {
   "cell_type": "code",
   "execution_count": null,
   "metadata": {},
   "outputs": [],
   "source": [
    "res = simplex(f, C, d, verbose=True)\n",
    "profil_simplex = res[:n]  #profil retournee par le simplexe maison"
   ]
  },
  {
   "cell_type": "markdown",
   "metadata": {},
   "source": [
    "Les tracés sont lissés en s'appuyant sur l'interpolation de Spline (interpolate.splrep et interpolate.splev) :"
   ]
  },
  {
   "cell_type": "code",
   "execution_count": null,
   "metadata": {
    "collapsed": true
   },
   "outputs": [],
   "source": [
    "#lissage profil_linprog\n",
    "tck = interpolate.splrep(pt_mes, profil_linprog, s=len(pt_mes)-np.sqrt(2*len(pt_mes)))\n",
    "xnew = np.linspace(pt_mes[0], pt_mes[-1], 20*len(pt_mes))\n",
    "profil_linprog_liss = interpolate.splev(xnew, tck)\n",
    "\n",
    "#lissage profil_simplex\n",
    "tck = interpolate.splrep(pt_mes, profil_simplex, s=len(pt_mes)-np.sqrt(2*len(pt_mes)))\n",
    "xnew = np.linspace(pt_mes[0], pt_mes[-1], 20*len(pt_mes))\n",
    "profil_simplex_liss = interpolate.splev(xnew, tck)"
   ]
  },
  {
   "cell_type": "markdown",
   "metadata": {},
   "source": [
    "On affiche les tracés des routes optimales obtenues par scipy.linprog (à gauche) et par le simplexe maison (à droite)."
   ]
  },
  {
   "cell_type": "code",
   "execution_count": null,
   "metadata": {},
   "outputs": [],
   "source": [
    "# pour agrandir les courbes on utilise le module pylab\n",
    "from pylab import *\n",
    "#on crée un graphique de 13x5 pouces \n",
    "figure(figsize=(13,5))\n",
    "\n",
    "plt.subplot(1,2,1)\n",
    "plt.plot(pt_mes, alt, 'k', label=\"Profil du terrain\")\n",
    "plt.plot(pt_mes, profil_linprog, 'c', label=\"Route optimale\")\n",
    "\n",
    "plt.plot(xnew, profil_linprog_liss, 'b', label=\"Route optimale lissée\")\n",
    "\n",
    "plt.xlabel(\"Points de mesures (en metres)\")\n",
    "plt.ylabel(\"Altitudes (en metres)\")\n",
    "plt.title(\"Tracés du profil du terrain et de la route optimale associée\")\n",
    "plt.legend()\n",
    "\n",
    "plt.subplot(1,2,2)\n",
    "plt.plot(pt_mes, alt, 'k', label=\"Profil du terrain\")\n",
    "plt.plot(pt_mes, profil_simplex, 'c', label=\"Route optimale\")\n",
    "\n",
    "plt.plot(xnew, profil_simplex_liss, 'b', label=\"Route optimale lissée\")\n",
    "\n",
    "plt.xlabel(\"Points de mesures (en metres)\")\n",
    "plt.ylabel(\"Altitudes (en metres)\")\n",
    "plt.title(\"Tracés du profil du terrain et de la route optimale associée\")\n",
    "plt.legend()\n",
    "\n",
    "plt.show()"
   ]
  },
  {
   "cell_type": "markdown",
   "metadata": {},
   "source": [
    "On avait fixé $\\alpha = 10\\%$, mais on peut faire varier la valeur de la pente maximale autorisée :"
   ]
  },
  {
   "cell_type": "code",
   "execution_count": null,
   "metadata": {},
   "outputs": [],
   "source": [
    "# pour agrandir les courbes on utilise le module pylab\n",
    "from pylab import *\n",
    "#on crée un graphique de 13x5 pouces \n",
    "figure(figsize=(13,5))\n",
    "\n",
    "plt.subplot(1,2,1)\n",
    "evolv_alpha('profil.txt')\n",
    "plt.subplot(1,2,2)\n",
    "evolv_alpha('profil.txt', methode='maison')"
   ]
  },
  {
   "cell_type": "markdown",
   "metadata": {},
   "source": [
    "### Cas quadratique"
   ]
  },
  {
   "cell_type": "markdown",
   "metadata": {
    "collapsed": true
   },
   "source": [
    "Ce probleme d'optimisation s'écrit sous la forme : <br>\n",
    "$min \\quad <A(U-G), (U-G)>$ <br>\n",
    "$s.c \\quad C \\times U - d \\leq 0 $\n",
    "\n",
    "On calcule alors les vecteurs A, inv_A, C, d :"
   ]
  },
  {
   "cell_type": "code",
   "execution_count": null,
   "metadata": {},
   "outputs": [],
   "source": [
    "A, inv_A, C, d = def_matrice_quad(pt_mes, alt, h, penteMax) #matrices"
   ]
  }
 ],
 "metadata": {
  "kernelspec": {
   "display_name": "Python 3",
   "language": "python",
   "name": "python3"
  },
  "language_info": {
   "codemirror_mode": {
    "name": "ipython",
    "version": 3
   },
   "file_extension": ".py",
   "mimetype": "text/x-python",
   "name": "python",
   "nbconvert_exporter": "python",
   "pygments_lexer": "ipython3",
   "version": "3.6.3"
  }
 },
 "nbformat": 4,
 "nbformat_minor": 2
}
